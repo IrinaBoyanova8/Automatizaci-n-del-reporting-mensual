{
 "cells": [
  {
   "cell_type": "code",
   "execution_count": null,
   "id": "cc90f3c8-0f67-49cd-ade7-73432402e39e",
   "metadata": {},
   "outputs": [],
   "source": [
    "import pandas as pd\n",
    "\n",
    "# Rutas de los archivo\n",
    "ruta_archivo_contable = 'C:\\\\Users\\\\Documents\\\\Archivo_Contable.xlsx'\n",
    "ruta_reporting = 'Z:\\\\Reporting\\\\2025\\\\Archivo_Reporting.xlsx'\n",
    "\n",
    "# 1. Leer archivo descargado de contabilidad, saltando las 6 primeras filas ya que están en blanco\n",
    "df_a3 = pd.read_excel(ruta_archivo_contable, sheet_name='Cuentas corrientes', header=6)\n",
    "\n",
    "# 2. Vamos a eliminar los espacios en blanco al principio y al final de los nombres de las columnas porque a veces cuando cargas datos desde Excel, los nombres de las columnas pueden venir con espacios extra:\n",
    "df_a3.columns = df_a3.columns.str.strip()\n",
    "\n",
    "# 3. Eliminar columnas no deseadas si existen. En este caso, no necesitamos las columnas Punt., Documento, Saldo ni Contrapartida\n",
    "columnas_a_eliminar = [\"Punt.\", \"Documento\", \"Saldo\", \"Contrapartida\"]\n",
    "df_a3 = df_a3.drop(columns=[col for col in columnas_a_eliminar if col in df_a3.columns])\n",
    "\n",
    "# 4. Eliminar filas que contienen \"Total cuenta\" en cualquier columna\n",
    "df_a3 = df_a3[~df_a3.astype(str).apply(lambda row: row.str.contains(\"Total cuenta\", na=False)).any(axis=1)]\n",
    "\n",
    "# 5. Sobrescribir hoja \"Reporting_mes\" con los datos nuevos\n",
    "with pd.ExcelWriter(ruta_reporting, engine='openpyxl', mode='a', if_sheet_exists='replace') as writer:\n",
    "    df_a3.to_excel(writer, sheet_name='Reporting_mes', index=False)\n",
    "\n",
    "# 6. Volver a leer la hoja actualizada\n",
    "df = pd.read_excel(ruta_reporting, sheet_name='Reporting_mes')\n",
    "\n",
    "# 7. Eliminar espacios en blanco en las columnas que puedan existir\n",
    "df.columns = df.columns.str.strip()\n",
    "\n",
    "# 8. Definir columnas clave\n",
    "columnas_objetivo = ['Fecha', 'Concepto', 'Debe', 'Haber']\n",
    "columnas_referencia = ['Cuenta', 'Descripción']\n",
    "\n",
    "# Filtrar solo las columnas clave si están presentes (Opcional)\n",
    "columnas_finales = [col for col in columnas_objetivo + columnas_referencia if col in df.columns]\n",
    "df_filtrado = df[columnas_finales]\n",
    "\n",
    "# 9. Guardar el archivo con la información actualiza\n",
    "df_filtrado.to_excel(\"archivo_reporting_update.xlsx\", index=False)"
   ]
  }
 ],
 "metadata": {
  "kernelspec": {
   "display_name": "Python 3 (ipykernel)",
   "language": "python",
   "name": "python3"
  },
  "language_info": {
   "codemirror_mode": {
    "name": "ipython",
    "version": 3
   },
   "file_extension": ".py",
   "mimetype": "text/x-python",
   "name": "python",
   "nbconvert_exporter": "python",
   "pygments_lexer": "ipython3",
   "version": "3.12.4"
  }
 },
 "nbformat": 4,
 "nbformat_minor": 5
}
